{
  "nbformat": 4,
  "nbformat_minor": 0,
  "metadata": {
    "colab": {
      "provenance": [],
      "authorship_tag": "ABX9TyMdIBSYL6RpGUHOK2rOyU17",
      "include_colab_link": true
    },
    "kernelspec": {
      "name": "python3",
      "display_name": "Python 3"
    },
    "language_info": {
      "name": "python"
    }
  },
  "cells": [
    {
      "cell_type": "markdown",
      "metadata": {
        "id": "view-in-github",
        "colab_type": "text"
      },
      "source": [
        "<a href=\"https://colab.research.google.com/github/bitanM/Personal-Projects/blob/main/GeminiAPIChatbot/Chatbot.ipynb\" target=\"_parent\"><img src=\"https://colab.research.google.com/assets/colab-badge.svg\" alt=\"Open In Colab\"/></a>"
      ]
    },
    {
      "cell_type": "markdown",
      "source": [
        "#### Necessary Imports"
      ],
      "metadata": {
        "id": "THNdOgSr6Dc4"
      }
    },
    {
      "cell_type": "code",
      "execution_count": null,
      "metadata": {
        "id": "ddO4Cz0Z51yx"
      },
      "outputs": [],
      "source": [
        "import os\n",
        "import pathlib\n",
        "import google.generativeai as genai\n",
        "import markdown\n",
        "from bs4 import BeautifulSoup"
      ]
    },
    {
      "cell_type": "markdown",
      "source": [
        "#### Importing the API key (please refer to the instruction section for appropriate use)"
      ],
      "metadata": {
        "id": "WfCu7Rxr75db"
      }
    },
    {
      "cell_type": "code",
      "source": [
        "from google.colab import userdata\n",
        "GOOGLE_API_KEY=userdata.get('GOOGLE_API_KEY')\n",
        "genai.configure(api_key=GOOGLE_API_KEY)"
      ],
      "metadata": {
        "id": "bU9p5_H96LcF"
      },
      "execution_count": null,
      "outputs": []
    },
    {
      "cell_type": "markdown",
      "source": [
        "#### Selecting the model"
      ],
      "metadata": {
        "id": "riPFSYXD8Dvw"
      }
    },
    {
      "cell_type": "code",
      "source": [
        "model = genai.GenerativeModel(\"gemini-pro\")"
      ],
      "metadata": {
        "id": "Ax_DuVG_6sGe"
      },
      "execution_count": null,
      "outputs": []
    },
    {
      "cell_type": "markdown",
      "source": [
        "#### The following function converts markdown to simple text. It is necessary as the API generates text in markdown format."
      ],
      "metadata": {
        "id": "NSaZxHV38GnM"
      }
    },
    {
      "cell_type": "code",
      "source": [
        "def markdown_to_text(markdown_string):\n",
        "    html = markdown.markdown(markdown_string)\n",
        "    soup = BeautifulSoup(html, \"html.parser\")\n",
        "    return soup.get_text()"
      ],
      "metadata": {
        "id": "sD6yjYv67HUb"
      },
      "execution_count": null,
      "outputs": []
    },
    {
      "cell_type": "markdown",
      "source": [
        "#### The following function generates response for a given question which is passed through the parameter"
      ],
      "metadata": {
        "id": "jsuU8ehq8U7q"
      }
    },
    {
      "cell_type": "code",
      "source": [
        "def get_gemini_response(question):\n",
        "    response = model.generate_content(question)\n",
        "    return markdown_to_text(response.text)"
      ],
      "metadata": {
        "id": "yjrfSaQ66zST"
      },
      "execution_count": null,
      "outputs": []
    },
    {
      "cell_type": "code",
      "source": [
        "bot = {}\n",
        "no_q = int(input(\"Enter the number of questions you want to ask: \"))\n",
        "\n",
        "while len(bot) < no_q:\n",
        "    prompt = input(\"Ask me anything: \")\n",
        "    response = get_gemini_response(prompt)\n",
        "    bot[prompt] = response\n",
        "    print(\"Gemini: \", response)\n",
        "\n",
        "print(bot)"
      ],
      "metadata": {
        "id": "6zjkMwh061xX"
      },
      "execution_count": null,
      "outputs": []
    },
    {
      "cell_type": "code",
      "source": [],
      "metadata": {
        "id": "jQyDxO1A9iQo"
      },
      "execution_count": null,
      "outputs": []
    }
  ]
}